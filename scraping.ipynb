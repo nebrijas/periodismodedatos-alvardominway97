{
 "cells": [
  {
   "cell_type": "markdown",
   "id": "09aba59b",
   "metadata": {},
   "source": [
    "# Práctica de Web Scraping"
   ]
  },
  {
   "cell_type": "markdown",
   "id": "c22776a9",
   "metadata": {},
   "source": [
    "## Importar librerías"
   ]
  },
  {
   "cell_type": "markdown",
   "id": "a3cc848a",
   "metadata": {},
   "source": [
    " Importo la librería [requests](https://docs.python-requests.org/en/latest/)"
   ]
  },
  {
   "cell_type": "markdown",
   "id": "e3141dbe",
   "metadata": {},
   "source": [
    "Voy a importar de la librería [bs4](https://www.crummy.com/software/BeautifulSoup/bs4/doc/) `BeautifulSoup`"
   ]
  },
  {
   "cell_type": "markdown",
   "id": "8878c07e",
   "metadata": {},
   "source": [
    "from bs4 import `BeautifulSoup()´"
   ]
  },
  {
   "cell_type": "markdown",
   "id": "5fd4152b",
   "metadata": {},
   "source": [
    "# Variables "
   ]
  },
  {
   "cell_type": "markdown",
   "id": "4f9b969c",
   "metadata": {},
   "source": [
    "Explicación de variables "
   ]
  },
  {
   "cell_type": "markdown",
   "id": "d75b3663",
   "metadata": {},
   "source": [
    "### Definimos URL "
   ]
  },
  {
   "cell_type": "code",
   "execution_count": null,
   "id": "b8925aba",
   "metadata": {},
   "outputs": [],
   "source": [
    "  URL = \"https://resultados.elpais.com/deportivos/juegos-olimpicos/medallero/\""
   ]
  },
  {
   "cell_type": "markdown",
   "id": "64e67ff2",
   "metadata": {},
   "source": [
    "## Realizamos la petición a la web "
   ]
  },
  {
   "cell_type": "code",
   "execution_count": 8,
   "id": "9bb0955a",
   "metadata": {},
   "outputs": [
    {
     "ename": "SyntaxError",
     "evalue": "invalid syntax (<ipython-input-8-b86402cf6682>, line 1)",
     "output_type": "error",
     "traceback": [
      "\u001b[1;36m  File \u001b[1;32m\"<ipython-input-8-b86402cf6682>\"\u001b[1;36m, line \u001b[1;32m1\u001b[0m\n\u001b[1;33m    Si el estaus code no es `200` no se puede leer la página\u001b[0m\n\u001b[1;37m       ^\u001b[0m\n\u001b[1;31mSyntaxError\u001b[0m\u001b[1;31m:\u001b[0m invalid syntax\n"
     ]
    }
   ],
   "source": [
    "Si el estaus code no es `200` no se puede leer la página "
   ]
  },
  {
   "cell_type": "code",
   "execution_count": null,
   "id": "85211669",
   "metadata": {},
   "outputs": [],
   "source": [
    "req = requests.get(URL)\n",
    "if (req.status_code != 200):\n",
    "    raise Exception(\"No se puede hacer Web Scraping en\"+ URL)\n",
    "if (req.status_code = 200):\n",
    "    raise Exception (\"Vamos a por ello\")"
   ]
  },
  {
   "cell_type": "markdown",
   "id": "937a873a",
   "metadata": {},
   "source": [
    "### De requests a BeautifulSoup"
   ]
  },
  {
   "cell_type": "markdown",
   "id": "910138b0",
   "metadata": {},
   "source": [
    "Pasamos el contenido HTML de la web a un objeto `BeautifulSoup()´"
   ]
  },
  {
   "cell_type": "code",
   "execution_count": 9,
   "id": "cbaab4d5",
   "metadata": {},
   "outputs": [
    {
     "ename": "NameError",
     "evalue": "name 'BeautifulSoup' is not defined",
     "output_type": "error",
     "traceback": [
      "\u001b[1;31m---------------------------------------------------------------------------\u001b[0m",
      "\u001b[1;31mNameError\u001b[0m                                 Traceback (most recent call last)",
      "\u001b[1;32m<ipython-input-9-64234a2afff8>\u001b[0m in \u001b[0;36m<module>\u001b[1;34m\u001b[0m\n\u001b[1;32m----> 1\u001b[1;33m \u001b[0mhtml\u001b[0m \u001b[1;33m=\u001b[0m \u001b[0mBeautifulSoup\u001b[0m \u001b[1;33m(\u001b[0m\u001b[0mreq\u001b[0m\u001b[1;33m.\u001b[0m\u001b[0mtext\u001b[0m\u001b[1;33m,\u001b[0m \u001b[1;34m\"html.parser\"\u001b[0m\u001b[1;33m)\u001b[0m\u001b[1;33m\u001b[0m\u001b[1;33m\u001b[0m\u001b[0m\n\u001b[0m",
      "\u001b[1;31mNameError\u001b[0m: name 'BeautifulSoup' is not defined"
     ]
    }
   ],
   "source": [
    "html = BeautifulSoup (req.text, \"html.parser\")"
   ]
  },
  {
   "cell_type": "markdown",
   "id": "ba5b0774",
   "metadata": {},
   "source": [
    "## Variables de datos "
   ]
  },
  {
   "cell_type": "code",
   "execution_count": null,
   "id": "a69561e2",
   "metadata": {},
   "outputs": [],
   "source": [
    "Definimos las variables `paises`, `oros`, `platas`, `bronces`, `totales`, y las identificamos con la función `find_all()`"
   ]
  },
  {
   "cell_type": "code",
   "execution_count": null,
   "id": "763be540",
   "metadata": {},
   "outputs": [],
   "source": [
    "  paises = html.find_all(\"th\",{\"class\":\"pais\"})\n",
    "  oros = html.find_all(\"td\",{\"class\":\"m_oro\"})\n",
    "  platas = html.find_all(\"td\",{\"class\":\"m_plata\"})\n",
    "  bronces = html.find_all(\"td\",{\"class\":\"m_bronce\"})\n",
    "  totales = html.find_all(\"td\",{\"class\":\"m_total\"})"
   ]
  },
  {
   "cell_type": "markdown",
   "id": "32b3c2e0",
   "metadata": {},
   "source": [
    "## Hacemos la pregunta "
   ]
  },
  {
   "cell_type": "code",
   "execution_count": null,
   "id": "e7a1aab7",
   "metadata": {},
   "outputs": [],
   "source": [
    "respuesta=input('¿QUIERES CONOCER LOS 20 PAÍSES QUE HAN OBTENIDO MÁS MEDALLAS EN 2020?\\n \\n Si tu respuesta es Sí, presiona \"s\" \\n')\n",
    "if(respuesta == 's'): \n",
    "  print('Vale, vamos a ello')"
   ]
  },
  {
   "cell_type": "markdown",
   "id": "cf5192ac",
   "metadata": {},
   "source": [
    "## Bucle para obtener los datos"
   ]
  },
  {
   "cell_type": "code",
   "execution_count": null,
   "id": "5cf4e588",
   "metadata": {},
   "outputs": [],
   "source": [
    "print('\\nRESULTADOS DE LOS DATOS DE LOS JUEGOS OLÍMPICOS 2020\\n')\n",
    "  print ('PAÍSES')\n",
    " for i in range (20):\n",
    "    # Con el método \"getText()\" no nos devuelve el HTML\n",
    "    print(\"%d. %s \\nOro: %s Plata: %s Bronce: %s \\n Total: %s \\n \" % (i+1, paises[i+1].text.strip(),oros[i].text.strip(),platas[i].text.strip(),bronces[i].text.strip(), totales[i].text.strip()))\n",
    "\n",
    "    else: \n",
    "        print('Qué lastima...')"
   ]
  }
 ],
 "metadata": {
  "kernelspec": {
   "display_name": "Python 3",
   "language": "python",
   "name": "python3"
  },
  "language_info": {
   "codemirror_mode": {
    "name": "ipython",
    "version": 3
   },
   "file_extension": ".py",
   "mimetype": "text/x-python",
   "name": "python",
   "nbconvert_exporter": "python",
   "pygments_lexer": "ipython3",
   "version": "3.8.8"
  }
 },
 "nbformat": 4,
 "nbformat_minor": 5
}
